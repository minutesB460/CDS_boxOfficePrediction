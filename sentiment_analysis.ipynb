{
 "cells": [
  {
   "cell_type": "code",
   "execution_count": 1,
   "metadata": {},
   "outputs": [
    {
     "name": "stdout",
     "output_type": "stream",
     "text": [
      "    Movie ID                         Review Title  \\\n",
      "0  tt0435705                             magic do   \n",
      "1  tt0435705  mining another philip k  dick story   \n",
      "2  tt0435705                        exciting film   \n",
      "3  tt0435705                         far expected   \n",
      "4  tt0435705                    pretty good stuff   \n",
      "\n",
      "                                      Review Content   Review Date  \\\n",
      "0  nicholas cage  julianne moore  jessica biel st...  Jan 26, 2013   \n",
      "1  next comes story written philip k  dick  like ...  May 23, 2014   \n",
      "2  watched film not knowing anything heard  came ...  Oct 12, 2008   \n",
      "3  next is much better movie expected see  read r...   May 5, 2007   \n",
      "4  cris is man gift  can see future  least bit in...   May 2, 2007   \n",
      "\n",
      "   Worldwide BO  Sentiment Score  \n",
      "0      77621983           0.8958  \n",
      "1      77621983           0.9893  \n",
      "2      77621983           0.9246  \n",
      "3      77621983           0.9960  \n",
      "4      77621983           0.7557  \n"
     ]
    }
   ],
   "source": [
    "import pandas as pd\n",
    "from vaderSentiment.vaderSentiment import SentimentIntensityAnalyzer\n",
    "\n",
    "df = pd.read_csv('data/IMDb_Cleaned_Reviews.csv')\n",
    "analyzer = SentimentIntensityAnalyzer()\n",
    "\n",
    "# Define a function to compute the compound sentiment score for a given text\n",
    "def get_sentiment_score(text):\n",
    "    scores = analyzer.polarity_scores(text)\n",
    "    return scores['compound']\n",
    "\n",
    "# Apply the function to the \"Review Content\" column and create a new column \"Sentiment Score\"\n",
    "df['Sentiment Score'] = df['Review Content'].apply(get_sentiment_score)\n",
    "\n",
    "# Save the updated DataFrame to a new CSV file\n",
    "df.to_csv('data/IMDb_Cleaned_Reviews_With_Sentiment.csv', index=False)\n",
    "\n",
    "# Print the first few rows to verify\n",
    "print(df.head())"
   ]
  }
 ],
 "metadata": {
  "kernelspec": {
   "display_name": "Python 3",
   "language": "python",
   "name": "python3"
  },
  "language_info": {
   "codemirror_mode": {
    "name": "ipython",
    "version": 3
   },
   "file_extension": ".py",
   "mimetype": "text/x-python",
   "name": "python",
   "nbconvert_exporter": "python",
   "pygments_lexer": "ipython3",
   "version": "3.12.4"
  }
 },
 "nbformat": 4,
 "nbformat_minor": 2
}
