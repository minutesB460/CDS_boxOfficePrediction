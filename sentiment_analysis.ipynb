{
 "cells": [
  {
   "cell_type": "code",
   "execution_count": null,
   "metadata": {},
   "outputs": [
    {
     "name": "stdout",
     "output_type": "stream",
     "text": [
      "  Movie Name                             Review Title  \\\n",
      "0      Anora            pretty woman meets uncut gems   \n",
      "1      Anora                         cinderella lives   \n",
      "2      Anora                         expect like much   \n",
      "3      Anora                       get hype around it   \n",
      "4      Anora  chaotic  heartbreaking glimpse survival   \n",
      "\n",
      "                                      Review Content   Review Date  \\\n",
      "0  anora early career magnum opus sean baker cont...   Nov 3, 2024   \n",
      "1  watched one best films year  athens festival n...   Oct 4, 2024   \n",
      "2  movie traumatized abused child grows perpetuat...  Dec 20, 2024   \n",
      "3  first 40 minutes quite misleading  likely catc...  Dec 19, 2024   \n",
      "4  sean baker turns anora one movies seem glide e...  Jan 29, 2025   \n",
      "\n",
      "   Sentiment Score  \n",
      "0           0.9944  \n",
      "1           0.9889  \n",
      "2          -0.4976  \n",
      "3           0.9848  \n",
      "4           0.9812  \n"
     ]
    }
   ],
   "source": [
    "import pandas as pd\n",
    "from vaderSentiment.vaderSentiment import SentimentIntensityAnalyzer\n",
    "\n",
    "df = pd.read_csv('data/IMDb_Cleaned_Reviews.csv')\n",
    "analyzer = SentimentIntensityAnalyzer()\n",
    "\n",
    "# Define a function to compute the compound sentiment score for a given text\n",
    "def get_sentiment_score(text):\n",
    "    scores = analyzer.polarity_scores(text)\n",
    "    return scores['compound']\n",
    "\n",
    "# Apply the function to the \"Review Content\" column and create a new column \"Sentiment Score\"\n",
    "df['Sentiment Score'] = df['Review Content'].apply(get_sentiment_score)\n",
    "\n",
    "# Save the updated DataFrame to a new CSV file\n",
    "df.to_csv('data/IMDb_Cleaned_Reviews_With_Sentiment.csv', index=False)\n",
    "\n",
    "# Print the first few rows to verify\n",
    "print(df.head())"
   ]
  },
  {
   "cell_type": "code",
   "execution_count": 5,
   "metadata": {},
   "outputs": [
    {
     "name": "stdout",
     "output_type": "stream",
     "text": [
      "$47,680,966\n"
     ]
    }
   ],
   "source": [
    "import requests\n",
    "from bs4 import BeautifulSoup\n",
    "\n",
    "def scrape_worldwide_box_office(movie_id):\n",
    "    # Build the URL by replacing \"movieid\" with the given movie_id\n",
    "    url = f\"https://www.boxofficemojo.com/title/{movie_id}/credits/\"\n",
    "    \n",
    "    # Get the page content\n",
    "    response = requests.get(url)\n",
    "    if response.status_code != 200:\n",
    "        raise Exception(f\"Failed to retrieve page for movie ID {movie_id} (status code: {response.status_code})\")\n",
    "    \n",
    "    # Parse the HTML content\n",
    "    soup = BeautifulSoup(response.text, 'html.parser')\n",
    "    \n",
    "    # Find all span elements that contain the text \"Worldwide\"\n",
    "    worldwide_spans = soup.find_all('span', string=lambda text: text and \"Worldwide\" in text)\n",
    "    \n",
    "    # Loop through each span to find the parent div and then search for a child with class \"money\"\n",
    "    for span in worldwide_spans:\n",
    "        parent_div = span.find_parent('div')\n",
    "        if parent_div:\n",
    "            money_elem = parent_div.find(class_=\"money\")\n",
    "            if money_elem:\n",
    "                # Return the box office figure (e.g., \"$47,680,966\")\n",
    "                return money_elem.get_text(strip=True)\n",
    "    \n",
    "    # If no matching element is found, throw an error\n",
    "    raise Exception(\"Worldwide box office figure not found.\")\n",
    "\n",
    "# Example usage:\n",
    "movie_id = \"tt28607951\"  # Replace with the actual movie ID\n",
    "print(scrape_worldwide_box_office(movie_id))"
   ]
  }
 ],
 "metadata": {
  "kernelspec": {
   "display_name": "Python 3",
   "language": "python",
   "name": "python3"
  },
  "language_info": {
   "codemirror_mode": {
    "name": "ipython",
    "version": 3
   },
   "file_extension": ".py",
   "mimetype": "text/x-python",
   "name": "python",
   "nbconvert_exporter": "python",
   "pygments_lexer": "ipython3",
   "version": "3.12.4"
  }
 },
 "nbformat": 4,
 "nbformat_minor": 2
}
